{
 "cells": [
  {
   "cell_type": "markdown",
   "metadata": {},
   "source": [
    "# Data Matching Functions\n",
    "\n",
    "This notebook contains reusable functions that match max value disease pairs with data from matrices. Max value disease pair files include:\n",
    "\n",
    "    Max Gene Uniqueness.xlsx\n",
    "    Max BP-Weight.xlsx\n",
    "    Max BP Jaccard Similarity.xlsx\n",
    "\n",
    "The functions can retrieve data stored in half-full matrices. These matrices include:\n",
    "\n",
    "    BP-Weight.csv\n",
    "    Gene Uniqueness.csv\n",
    "    BP Jaccard Similarity.csv"
   ]
  },
  {
   "cell_type": "markdown",
   "metadata": {},
   "source": [
    "## Define a function that opens max measurement files stored as Excel files"
   ]
  },
  {
   "cell_type": "code",
   "execution_count": null,
   "metadata": {},
   "outputs": [],
   "source": [
    "def open_max_excel_file(filename, sheet = 'No Duplicates'):\n",
    "    '''Open the file with the max disease pairs. By default,\n",
    "    the sheet with no duplicates will be used. \n",
    "    \n",
    "    Parameters:\n",
    "    filename (str): The filename to work with.\n",
    "    sheet (str): The sheet name.\n",
    "    '''\n",
    "    print(\"Opening Excel file.\")\n",
    "    file = pandas.read_excel(filename,      # Specify filename.\n",
    "                             dtype = str,   # Treat cells as strings.\n",
    "                             sheet_name = sheet, # The sheet to open.\n",
    "                             index_col = 0) # Use column 0 as index.\n",
    "    \n",
    "    # Return the opened file object.\n",
    "    return file"
   ]
  },
  {
   "cell_type": "markdown",
   "metadata": {},
   "source": [
    "## Define a function that opens .csv matrix files and used DB IDs to locate values\n",
    "\n",
    "The matrices should have the following format:\n",
    "\n",
    "|            | DB ID  | Disease| 0   | 1   | 2   | ... |\n",
    "|   --       | --     |  --    |  -- | --  |  -- |  -- |   \n",
    "| **0**      | 000001 | Name 1 | 2.5 | 0.8 | 0.3 | ... |\n",
    "| **1**      | 000002 | Name 2 | NaN | 1.2 | 0.2 | ... |\n",
    "| **2**      | 000003 | Name 3 | NaN | NaN | 0.5 | ... |\n",
    "| **..**     | ...    | ...    | ... | ... | ... | ... |\n",
    "| **DB ID**  | NaN | NaN | 000001 | 000002 | 000003 | ... |\n",
    "| **Disease**| NaN | NaN | Name 1 | Name 2 | Name 3 | ... |\n",
    "\n",
    "The example matrix includes the columns 'DB ID' and 'Disease'. The program should not fail if matrices have additional columns, or if matrices do not have the 'Disease' column. However, the program will fail if the 'DB ID' column does not exist.\n",
    "\n",
    "The function output looks like this:\n",
    "\n",
    "| **DB ID**  | 000001   | 000002   | 000003   | ... |\n",
    "|   --       |  -- | --  |  -- |  -- |   \n",
    "| **000001** | NaN | 0.8 | 0.3 | ... |\n",
    "| **000002** | NaN | NaN | 0.2 | ... |\n",
    "| **000003** | NaN | NaN | NaN | ... |\n",
    "| **...**     | ... | ... | ... | ... |"
   ]
  },
  {
   "cell_type": "code",
   "execution_count": null,
   "metadata": {},
   "outputs": [],
   "source": [
    "def open_file(filename):\n",
    "    '''Open .csv matrix file. The matrix must have a 'DB ID' column \n",
    "    and a '0' column. \n",
    "    \n",
    "    Parameters:\n",
    "    filename (str): The filename to work with.\n",
    "    '''\n",
    "    \n",
    "    print(\"Opening .csv file.\")\n",
    "    file = pandas.read_csv(filename,      # Specify filename.\n",
    "                           dtype = str,   # Treat cells as strings.\n",
    "                           index_col = 0) # Use column 0 as index.\n",
    "    \n",
    "    # Everything that comes before column '0' is unused, for example:\n",
    "    # If location for '0' is 2, the labels at 0 and 1 must be removed.\n",
    "    unused_columns = file.columns.get_loc('0')\n",
    "\n",
    "    # Convert database IDs to floats. Example: '100.0' becomes 100.0.\n",
    "    db_ids = file['DB ID'].astype(float)\n",
    "    \n",
    "    # Drop NaN values and convert to int. Example: 100.0 becomes 100.\n",
    "    db_ids = db_ids.dropna().astype(int)\n",
    "    \n",
    "    # Convert integers to strings, for example, 100 becomes '100'.\n",
    "    # This removes decimals from strings: '100.0' to '100'.\n",
    "    index_to_db_id = db_ids.astype(str).to_dict()\n",
    "\n",
    "    # Get labels that come before column '0' for removal. Example:\n",
    "    # the labels 'DB ID' and 'Disease' may come before '0'.\n",
    "    labels_to_drop = file.columns[range(unused_columns)]\n",
    "\n",
    "    print('Dropping unused rows and columns.')\n",
    "    # Remove the first unused columns.\n",
    "    file = file.drop(columns = labels_to_drop)\n",
    "    # Remove the last unused rows.\n",
    "    file = file.drop(index = labels_to_drop)\n",
    "\n",
    "    print('Replacing labels with corresponding DB IDs.')\n",
    "    # Rename the columns using corresponding database IDs.\n",
    "    file = file.rename(columns = index_to_db_id)\n",
    "    # Rename the rows using corresponding database IDs.\n",
    "    file = file.rename(index = index_to_db_id)\n",
    "    \n",
    "    # Label index column using the name 'DB ID'.\n",
    "    file.index.name = 'DB ID'\n",
    "    \n",
    "    print('Converting values to type float.')\n",
    "    # Convert values to floats; it's difficult to do math on strings.\n",
    "    file = file.astype(float)\n",
    "    \n",
    "    # Return the opened file object.\n",
    "    return file"
   ]
  },
  {
   "cell_type": "markdown",
   "metadata": {},
   "source": [
    "## Define a function that uses DB IDs to retrieve values from a matrix"
   ]
  },
  {
   "cell_type": "code",
   "execution_count": 3,
   "metadata": {},
   "outputs": [],
   "source": [
    "def find_values_using_database_ids(db_ids1, db_ids2, matrix):\n",
    "    '''Return table containing values corresponding to specified \n",
    "    DB ID pairs. \n",
    "    \n",
    "    Parameters:\n",
    "    db_ids1 (list): List of DB IDs pointing at matrix rows/columns.\n",
    "    db_ids2 (list): List of DB IDs pointing at matrix rows/columns.\n",
    "    matrix: Pandas dataframe using DB IDs for the index and the column\n",
    "    names.\n",
    "    '''\n",
    "    # Define an empty dictionary to store values specified by DB IDs.\n",
    "    values = {}\n",
    "    \n",
    "    # Iterate thru every DB ID pair formed by using both lists.\n",
    "    # Each DB ID pair is a coordinate that points at a matrix cell.\n",
    "    for id1, id2 in zip(db_ids1, db_ids2):\n",
    "        \n",
    "        try:\n",
    "            \n",
    "            # Try to use DB ID to find the value in the matrix file.\n",
    "            # Matrix is half full; finding the correct value depends\n",
    "            # on pointing to the correct half; one half is empty.\n",
    "            \n",
    "            # Get the first value from one half of the matrix.\n",
    "            similarity1 = matrix.at[id1, id2]\n",
    "            # Get the second value from the other half of the matrix.\n",
    "            similarity2 = matrix.at[id2, id1]\n",
    "            \n",
    "            # Convert NaN values to 0 to perform math on variables.\n",
    "            similarity1 = 0 if numpy.isnan(similarity1) else similarity1\n",
    "            similarity2 = 0 if numpy.isnan(similarity2) else similarity2\n",
    "            \n",
    "        except ValueError:\n",
    "            \n",
    "            # Cannot label index with a null key; one of the DB IDs is\n",
    "            # null, which means other DB ID corresponds to a disease \n",
    "            # without similarity to other disease; similarity is NaN.\n",
    "            values[id1] = numpy.nan\n",
    "            \n",
    "            # Process the next set of database IDs.\n",
    "            continue\n",
    "\n",
    "        # Store the similarity value that is greater than 0 (not NaN).\n",
    "        values[id1] = max(similarity1, similarity2)\n",
    "    \n",
    "    # Convert the dictionary to a pandas dataframe.\n",
    "    values = pandas.DataFrame.from_dict(values, orient = 'index')\n",
    "    \n",
    "    # Return table containing values corresponding to given DB IDs.\n",
    "    return values"
   ]
  },
  {
   "cell_type": "markdown",
   "metadata": {},
   "source": [
    "## Define a function that takes a table and stores values obtained from matrices"
   ]
  },
  {
   "cell_type": "code",
   "execution_count": 4,
   "metadata": {},
   "outputs": [],
   "source": [
    "def get_values_from_matrices(target, paths, names):\n",
    "    '''Return table after adding values extracted from matrices. \n",
    "    \n",
    "    Parameters:\n",
    "    target: Pandas dataframe containing two columns named 'DB ID 1' \n",
    "    and 'DB ID 2'.\n",
    "    paths (list): List of file paths that point to matrices containing\n",
    "    data about disease pairs.\n",
    "    names (list): List of names that will be used as column names once\n",
    "    the data obtained from the matrices is placed in the target file.\n",
    "    '''\n",
    "    # Create a copy of the pandas dataframe.\n",
    "    file = target.copy()\n",
    "    \n",
    "    # Get the first list of DB IDs.\n",
    "    db_id1 = file['DB ID 1']\n",
    "    # Get the second list of DB IDs.\n",
    "    db_id2 = file['DB ID 2']\n",
    "    \n",
    "    # Convert database IDs to floats. Example: '100.0' becomes 100.0.\n",
    "    # Convert IDs to int. Example: 100.0 becomes 100.\n",
    "    # Convert integers to strings, for example, 100 becomes '100'.\n",
    "    # This removes decimals from strings: '100.0' to '100'.\n",
    "    db_id1 = db_id1.astype(float).astype(int).astype(str).to_list()\n",
    "    db_id2 = db_id2.astype(float).astype(int).astype(str).to_list()\n",
    "    \n",
    "    # Iterate thru every file path and its corresponding column name.\n",
    "    for path, name in zip(paths, names):\n",
    "        \n",
    "        # Print name of the column and the file path for debugging.\n",
    "        print(name, '\\t', path)\n",
    "        \n",
    "        # Get a matrix using the specified file path; the matrix will\n",
    "        # use DB IDs for the index and for columns, so values can be \n",
    "        # found using DB IDs.\n",
    "        matrix = open_file(path)\n",
    "        \n",
    "        # Use the lists of DB IDs obtained from the target file to\n",
    "        # locate the values stored in the matrix file.\n",
    "        values = find_values_using_database_ids(\n",
    "            db_id1, db_id2, matrix)\n",
    "        \n",
    "        # Store the values corresponding to the DB IDs in the copy\n",
    "        # of the target file.\n",
    "        file[name] = values.values\n",
    "    \n",
    "    # Return table after adding values extracted from the matrices.\n",
    "    return file"
   ]
  },
  {
   "cell_type": "markdown",
   "metadata": {},
   "source": [
    "## Print the functions included in the notebook"
   ]
  },
  {
   "cell_type": "code",
   "execution_count": 5,
   "metadata": {},
   "outputs": [
    {
     "name": "stdout",
     "output_type": "stream",
     "text": [
      "Define open_max_excel_file: Open the file with the max disease pairs. \n",
      "Define open_file: Open .csv matrix file.\n",
      "Define find_values_using_database_ids: Return table corresponding to specified DB ID pairs. \n",
      "Define get_values_from_matrices: Return values extracted from matrices.\n"
     ]
    }
   ],
   "source": [
    "print('''Define open_max_excel_file: Open the file with the max disease pairs. \n",
    "Define open_file: Open .csv matrix file.\n",
    "Define find_values_using_database_ids: Return table corresponding to specified DB ID pairs. \n",
    "Define get_values_from_matrices: Return values extracted from matrices.''')"
   ]
  }
 ],
 "metadata": {
  "kernelspec": {
   "display_name": "Python 3",
   "language": "python",
   "name": "python3"
  },
  "language_info": {
   "codemirror_mode": {
    "name": "ipython",
    "version": 3
   },
   "file_extension": ".py",
   "mimetype": "text/x-python",
   "name": "python",
   "nbconvert_exporter": "python",
   "pygments_lexer": "ipython3",
   "version": "3.6.6"
  },
  "toc": {
   "base_numbering": 1,
   "nav_menu": {
    "height": "217.567px",
    "width": "803.333px"
   },
   "number_sections": true,
   "sideBar": true,
   "skip_h1_title": true,
   "title_cell": "Table of Contents",
   "title_sidebar": "Contents",
   "toc_cell": false,
   "toc_position": {
    "height": "526.633px",
    "left": "475px",
    "top": "134.283px",
    "width": "174.7px"
   },
   "toc_section_display": true,
   "toc_window_display": false
  }
 },
 "nbformat": 4,
 "nbformat_minor": 4
}
