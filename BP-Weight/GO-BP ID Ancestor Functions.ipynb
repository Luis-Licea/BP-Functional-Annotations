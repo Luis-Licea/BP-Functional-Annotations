{
 "cells": [
  {
   "cell_type": "markdown",
   "metadata": {},
   "source": [
    "# GO-BP ID Ancestor Functions\n",
    "\n",
    "This program removes GO ID ancestors using the gene ontology file 'go.obo' downloaded from [Geneontology.org](http://geneontology.org/).\n",
    "Consider the terms: \n",
    "\n",
    "    GO:0006694, GO:0006702, GO:0006704, GO:0007548, GO:0008202, GO:0042446, GO:0042448, GO:0055114\n",
    "\n",
    "In this case 3 out of the 8 GO terms are redundant. The GO terms without ancestors are: \n",
    "\n",
    "    GO:0006702, GO:0042448, GO:0006704, GO:0007548, GO:0055114\n"
   ]
  },
  {
   "cell_type": "markdown",
   "metadata": {},
   "source": [
    "### Create an acyclic-directed graph using the GO.obo file"
   ]
  },
  {
   "cell_type": "code",
   "execution_count": 1,
   "metadata": {},
   "outputs": [
    {
     "name": "stdout",
     "output_type": "stream",
     "text": [
      "D:\\Documents\\Research\\Paper\\Camera Ready\\Programs\\Gene-Disease Associations\\go.obo: fmt(1.2) rel(2020-06-01) 47,233 GO Terms\n"
     ]
    }
   ],
   "source": [
    "# Use goatools to access Gene Ontology .obo files.\n",
    "from goatools import obo_parser\n",
    "\n",
    "# Use os module to access files in other directories.\n",
    "from os import path\n",
    "\n",
    "# Create directed acyclilc-graph of the 'go.obo' file.\n",
    "gene_ontology = path.abspath(\n",
    "    '../Gene-Disease Associations/go.obo')\n",
    "\n",
    "ontology = obo_parser.GODag(gene_ontology)"
   ]
  },
  {
   "cell_type": "markdown",
   "metadata": {},
   "source": [
    "### Create a list of ancestors to increase access speed"
   ]
  },
  {
   "cell_type": "code",
   "execution_count": 2,
   "metadata": {},
   "outputs": [],
   "source": [
    "# Define a dictionary to store the ancestors of each GO-BP term.\n",
    "# This is done to increase access speed.\n",
    "ancestors = {}\n",
    "\n",
    "# Iterate thru every term in the gene ontology.\n",
    "for term in ontology:\n",
    "    \n",
    "    # Store ancestors of each GO-BP term.\n",
    "    ancestors[term] = ontology[term].get_all_parents()"
   ]
  },
  {
   "cell_type": "markdown",
   "metadata": {},
   "source": [
    "### Define a function that takes a list of GO IDs and removes the GO IDs that are ancestors"
   ]
  },
  {
   "cell_type": "code",
   "execution_count": 3,
   "metadata": {},
   "outputs": [],
   "source": [
    "def remove_ancestors(bp_set):\n",
    "    '''Take a set of BP IDs and remove IDs that are\n",
    "    redundant because a more specific child is already \n",
    "    found in the set. \n",
    "    \n",
    "    Parameters:\n",
    "    bp_set (set): Set of BP ID strings.\n",
    "    '''\n",
    "    # Create an empty set to store the parents of each BP term.\n",
    "    parents = set()\n",
    "    \n",
    "    # Iterate thru every shared BP term.\n",
    "    for bp in bp_set:\n",
    "        \n",
    "        # Add the ancestors of each BP term to the set of parents.\n",
    "        parents = parents.union(ancestors[bp])\n",
    "    \n",
    "    # Remove BP ancestors (parents).\n",
    "    return bp_set.difference(parents)"
   ]
  },
  {
   "cell_type": "markdown",
   "metadata": {},
   "source": [
    "### Define a function that finds the shared BP terms found in two sets and removes redundant BP ancestors"
   ]
  },
  {
   "cell_type": "code",
   "execution_count": 4,
   "metadata": {},
   "outputs": [],
   "source": [
    "def get_shared_bps_no_ancestors(set1, set2):\n",
    "    '''Return set of shared BP terms that two diseases share\n",
    "    after removing redundant BP term ancestors.\n",
    "    \n",
    "    Parameters:\n",
    "    set1 (set): The set of BP terms of disease 1.\n",
    "    set2 (set): The set of BP terms of disease 2.\n",
    "    '''\n",
    "    # Create a set of shared BP terms.\n",
    "    shared_bps = set1.intersection(set2)\n",
    "    \n",
    "    # Remove redundant BP ancestors.\n",
    "    return remove_ancestors(shared_bps)"
   ]
  },
  {
   "cell_type": "markdown",
   "metadata": {},
   "source": [
    "### Define a function to count the number of GO IDs left (this assumes that all entries with zero GO IDs have been removed)"
   ]
  },
  {
   "cell_type": "code",
   "execution_count": 5,
   "metadata": {},
   "outputs": [],
   "source": [
    "def count_elements(string, sep):\n",
    "    '''Count the number of elements stored in a string\n",
    "    separated by a specific substring. \n",
    "    \n",
    "    Parameters:\n",
    "    string (str): List of elements.\n",
    "    sep (str): String used as a separator in the string.\n",
    "    '''\n",
    "    # Return 0 if there are no elements.\n",
    "    if string == '' or string == None: return 0\n",
    "    \n",
    "    # Initial count is 0.\n",
    "    count = 0\n",
    "    \n",
    "    # Iterate thru every char in the string.\n",
    "    for char in string:\n",
    "        \n",
    "        # If the char is a separator.\n",
    "        if char == sep:\n",
    "            \n",
    "            # Increase the count.\n",
    "            count += 1\n",
    "    \n",
    "    # Increase count to account for last item. Example:\n",
    "    # GO:0001234 | GO:0000123 has 2 items and 1 separator\n",
    "    return count + 1"
   ]
  },
  {
   "cell_type": "markdown",
   "metadata": {},
   "source": [
    "## Define a function that takes an ID and outputs its ancestors organized by level"
   ]
  },
  {
   "cell_type": "code",
   "execution_count": 6,
   "metadata": {},
   "outputs": [],
   "source": [
    "def get_to_root(term, root, ancestors):\n",
    "    '''Return a list of IDs labeled by level, leading to the root.\n",
    "    \n",
    "    Parameters:\n",
    "    term: The term having parents, item_id, and level as properties.\n",
    "    root: The hierarchical root, such as 'DOID:4' or 'GO:0008150'.\n",
    "    ancestors: Dictionary storing the term ancestors and their levels.\n",
    "    '''\n",
    "    # Iterate thru every parent the term has.\n",
    "    for p in term.parents:\n",
    "\n",
    "        # Base case (root is reached). \n",
    "        if p.item_id == root:\n",
    "            \n",
    "            # Add the last level to the dictionary. \n",
    "            ancestors[0] = {root}\n",
    "            \n",
    "            # Return the dictionary. \n",
    "            return ancestors\n",
    "\n",
    "        # Recursive step (store the parents in their levels).\n",
    "        try:\n",
    "            # Store the parent in its level. \n",
    "            ancestors[p.level] = ancestors[p.level].union({p.item_id})\n",
    "            \n",
    "        except:\n",
    "            # Create the level if it does not exist. \n",
    "            ancestors[p.level] = {p.item_id}\n",
    "            \n",
    "        finally:\n",
    "            # Associate the parents of the parent to their levels. \n",
    "            get_to_root(p, root, ancestors)\n",
    "\n",
    "    # Return the dictionary of ancestors. \n",
    "    return ancestors\n",
    "\n",
    "def get_ancestors(term, root):\n",
    "    '''Return a list of IDs labeled by level, leading to the root.\n",
    "    \n",
    "    Parameters:\n",
    "    term (str): The term for which all the parents (leading up \n",
    "    to the root node) will be obtained.\n",
    "    root (str): The hierarchical root, such as 'DOID:4' or 'GO:0008150'.\n",
    "    '''\n",
    "    # Try to use the ontology to define the term.\n",
    "    try:\n",
    "        term = ontology[term]\n",
    "        \n",
    "    except KeyError:\n",
    "        # The key does not exist. Assume its level is 1 since\n",
    "        # only the root can be at level 0.\n",
    "        return {1: {term}}\n",
    "    \n",
    "    # Create an empty dictionary to associate the parents of the ID\n",
    "    # to their corresponding levels. The root note is at level 0.\n",
    "    ancestors = {}\n",
    "    ancestors[term.level] = {term.item_id}     \n",
    "    \n",
    "    # Associate the parents of the term to their levels. \n",
    "    return get_to_root(term, root, ancestors)"
   ]
  },
  {
   "cell_type": "markdown",
   "metadata": {},
   "source": [
    "## Define a funciton that returns a set of ancestors without their level"
   ]
  },
  {
   "cell_type": "code",
   "execution_count": 7,
   "metadata": {},
   "outputs": [],
   "source": [
    "def ancestor_dict2set(ancestors):\n",
    "    '''Return the set of IDs leading to the root.\n",
    "\n",
    "    Parameters:\n",
    "    ancestors (dict): The dictionary with a list of IDs labeled by \n",
    "    level, leading to the root.\n",
    "    '''\n",
    "    # Create an empty set.\n",
    "    terms = set()\n",
    "    \n",
    "    # Iterate thru every level in the ancestors.\n",
    "    for values in ancestors.values():\n",
    "        \n",
    "        # Add the ancestors to the list.\n",
    "        terms = terms.union(values)\n",
    "        \n",
    "    # Return the list.\n",
    "    return terms"
   ]
  },
  {
   "cell_type": "markdown",
   "metadata": {},
   "source": [
    "## Define a function that converts a dictionary of ancestors into a set"
   ]
  },
  {
   "cell_type": "code",
   "execution_count": 8,
   "metadata": {},
   "outputs": [],
   "source": [
    "def get_ancestor_set(term, root):\n",
    "    '''Return a list of IDs leading to the root.\n",
    "\n",
    "    Parameters:\n",
    "    term (str): The term for which all the parents (leading up \n",
    "    to the root node) will be obtained.\n",
    "    root (str): The hierarchical root, such as 'DOID:4' or 'GO:0008150'.\n",
    "    '''\n",
    "    # Get the ancestors, labeled by level.\n",
    "    labeled_ancestors = get_ancestors(term, root)\n",
    "    \n",
    "    # Return the unlabeled ancestors stored in a set.\n",
    "    return ancestor_dict2set(labeled_ancestors)"
   ]
  },
  {
   "cell_type": "markdown",
   "metadata": {},
   "source": [
    "## Define a function that takes a string of GO IDs and returns a list containing the GO IDs and their parents"
   ]
  },
  {
   "cell_type": "code",
   "execution_count": 9,
   "metadata": {},
   "outputs": [],
   "source": [
    "def get_all_ancestors(terms, sep = None, join_sep = None):\n",
    "    '''Take a string containing GO IDs and return a list containing \n",
    "    the GO IDs and their parents.\n",
    "    \n",
    "    Parameters:\n",
    "    terms (str): The string containing the GO IDs. The IDs\n",
    "    may be separated by a certain substring.\n",
    "    sep (str): The substring used to separate the elements\n",
    "    in the string.\n",
    "    join_sep (str): The string used to separate the list\n",
    "    of GO IDs before it is returned to the user.\n",
    "    '''\n",
    "    # Split the terms using the given separator.\n",
    "    if sep:\n",
    "        terms = terms.split(sep)\n",
    "       \n",
    "    # Create an empty set of ancestors.\n",
    "    ancestors = set()\n",
    "    \n",
    "    # Iterate thru every term in the IDs.\n",
    "    for term in terms:\n",
    "        \n",
    "        # Get all the ancestors of the term leading to the root.\n",
    "        term_ancestors = get_ancestor_set(term, 'GO:0008150')\n",
    "        \n",
    "        # Add the ancestors to the set.\n",
    "        ancestors = ancestors.union(term_ancestors)\n",
    "        \n",
    "    # Return the ancestor set as a string \n",
    "    # separated by the given separator.\n",
    "    if join_sep:\n",
    "        return join_sep.join(ancestors)\n",
    "    \n",
    "    # Return the ancestor set.\n",
    "    return ancestors"
   ]
  },
  {
   "cell_type": "markdown",
   "metadata": {},
   "source": [
    "### List defined functions (except helper functions)\n",
    "- Create an acyclic-directed graph using the GO.obo file.\n",
    "- Define remove_ancestors: Take a list of BP IDs and remove redundant ID ancestors.\n",
    "- Define get_shared_bps_no_ancestors: Return the set of BP terms that two diseases share after removing redundant BP term ancestors.\n",
    "- Define count_elements: Count the number of GO IDs left (assumes that entries with zero elements are empty or null).\n",
    "- Helper function get_to_root: Return a list of IDs labeled by level, leading to the root.\n",
    "- Helper function get_ancestors: Return a list of IDs labeled by level, leading to the root.\n",
    "- Helper function ancestor_dict2set: Return a set of ancestors without their level.\n",
    "- Helper function get_ancestor_set: Convert a dictionary of ancestors into a set.\n",
    "- Define get_all_ancestors: Take a string containing GO IDs and return a list containing the GO IDs and their parents."
   ]
  },
  {
   "cell_type": "code",
   "execution_count": 10,
   "metadata": {},
   "outputs": [
    {
     "name": "stdout",
     "output_type": "stream",
     "text": [
      "Create an acyclic-directed graph using the GO.obo file.\n",
      "Define remove_ancestors: Take a list of BP IDs and remove redundant ID ancestors. \n",
      "Define get_shared_bps_no_ancestors: Return the set of BP terms that two diseases share after removing redundant BP term ancestors.\n",
      "Define count_elements: Count the number of GO IDs left (assumes that entries with zero elements are empty or null).\n",
      "Define get_all_ancestors: Take a string of GO IDs and return a list containing the GO IDs and their parents.\n",
      "Define count_elements: Count the number of GO IDs left (assumes that entries with zero elements are empty or null).\n"
     ]
    }
   ],
   "source": [
    "print('''Create an acyclic-directed graph using the GO.obo file.\n",
    "Define remove_ancestors: Take a list of BP IDs and remove redundant ID ancestors. \n",
    "Define get_shared_bps_no_ancestors: Return the set of BP terms that two diseases share after removing redundant BP term ancestors.\n",
    "Define count_elements: Count the number of GO IDs left (assumes that entries with zero elements are empty or null).\n",
    "Define get_all_ancestors: Take a string of GO IDs and return a list containing the GO IDs and their parents.\n",
    "Define count_elements: Count the number of GO IDs left (assumes that entries with zero elements are empty or null).''')"
   ]
  }
 ],
 "metadata": {
  "kernelspec": {
   "display_name": "Python 3",
   "language": "python",
   "name": "python3"
  },
  "language_info": {
   "codemirror_mode": {
    "name": "ipython",
    "version": 3
   },
   "file_extension": ".py",
   "mimetype": "text/x-python",
   "name": "python",
   "nbconvert_exporter": "python",
   "pygments_lexer": "ipython3",
   "version": "3.6.6"
  },
  "toc": {
   "base_numbering": 1,
   "nav_menu": {
    "height": "217.567px",
    "width": "803.333px"
   },
   "number_sections": true,
   "sideBar": true,
   "skip_h1_title": true,
   "title_cell": "Table of Contents",
   "title_sidebar": "Contents",
   "toc_cell": false,
   "toc_position": {
    "height": "calc(100% - 180px)",
    "left": "10px",
    "top": "150px",
    "width": "427.433px"
   },
   "toc_section_display": false,
   "toc_window_display": false
  }
 },
 "nbformat": 4,
 "nbformat_minor": 4
}
